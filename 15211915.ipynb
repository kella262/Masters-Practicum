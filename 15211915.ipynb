{
 "cells": [
  {
   "cell_type": "markdown",
   "metadata": {},
   "source": [
    "<h3 align=\"center\">Semantic classification of scientific literature according to the hallmarks of cancer\n",
    "<h3 align=\"center\">Alan Kelly\n",
    "<h3 align=\"center\">15211915</h3>"
   ]
  },
  {
   "cell_type": "code",
   "execution_count": 1,
   "metadata": {
    "collapsed": true
   },
   "outputs": [],
   "source": [
    "import pandas as pd\n",
    "import numpy as np\n",
    "import os\n",
    "import nltk\n",
    "import random\n",
    "import codecs\n",
    "from sklearn.cross_validation import train_test_split\n",
    "from sklearn.multiclass import OneVsRestClassifier\n",
    "from sklearn.pipeline import Pipeline, FeatureUnion\n",
    "from sklearn.metrics import classification_report, accuracy_score\n",
    "from sklearn import cross_validation\n",
    "from sklearn.svm import LinearSVC\n",
    "from sklearn import preprocessing\n",
    "import scipy\n",
    "from sklearn.feature_extraction.text import CountVectorizer\n",
    "from sklearn.preprocessing import MultiLabelBinarizer\n",
    "from nltk.stem import WordNetLemmatizer\n",
    "from scipy.sparse import hstack\n",
    "from sklearn.feature_extraction.text import HashingVectorizer\n",
    "from sklearn.feature_extraction import FeatureHasher"
   ]
  },
  {
   "cell_type": "code",
   "execution_count": 11,
   "metadata": {
    "collapsed": false
   },
   "outputs": [
    {
     "name": "stdout",
     "output_type": "stream",
     "text": [
      "showing info http://www.nltk.org/nltk_data/\n"
     ]
    },
    {
     "data": {
      "text/plain": [
       "True"
      ]
     },
     "execution_count": 11,
     "metadata": {},
     "output_type": "execute_result"
    }
   ],
   "source": [
    "nltk.download()"
   ]
  },
  {
   "cell_type": "code",
   "execution_count": 2,
   "metadata": {
    "collapsed": false
   },
   "outputs": [
    {
     "data": {
      "text/plain": [
       "'H:\\\\HoCCorpus'"
      ]
     },
     "execution_count": 2,
     "metadata": {},
     "output_type": "execute_result"
    }
   ],
   "source": [
    "#filepath =  \"C:\\Users\\Alan\\Dropbox\\Masters\\Practicum\\HoCCorpus\\\\\"\n",
    "filepath = 'H:\\HoCCorpus'\n",
    "\n",
    "os.chdir(filepath)\n",
    "os.getcwd()"
   ]
  },
  {
   "cell_type": "code",
   "execution_count": 3,
   "metadata": {
    "collapsed": false
   },
   "outputs": [],
   "source": [
    "#Define the hallmarks in a list to extract from files\n",
    "hallmarks = [\"'sustaining proliferative signaling'\",\"'evading growth suppressors'\",\"'resisting cell death'\",\"'enabling replicative immortality'\",\n",
    "             \"'inducing angiogenesis'\",\"'activating invasion and metastasis'\",\"'genomic instability and mutation'\",\"'tumor promoting inflammation'\",\n",
    "             \"'cellular energetics'\",\"'avoiding immune destruction'\"]"
   ]
  },
  {
   "cell_type": "code",
   "execution_count": 5,
   "metadata": {
    "collapsed": true
   },
   "outputs": [],
   "source": [
    "#Removes nested lists from a list\n",
    "def flatten(container):\n",
    "    for i in container:\n",
    "        if isinstance(i, (list,tuple)):\n",
    "            for j in flatten(i):\n",
    "                yield j\n",
    "        else:\n",
    "            yield i"
   ]
  },
  {
   "cell_type": "code",
   "execution_count": 6,
   "metadata": {
    "collapsed": false
   },
   "outputs": [
    {
     "name": "stdout",
     "output_type": "stream",
     "text": [
      "[\"'evading growth suppressors'\", \"'sustaining proliferative signaling'\", \"'evading growth suppressors'\", \"'sustaining proliferative signaling'\", \"'evading growth suppressors'\", \"'sustaining proliferative signaling'\"]\n"
     ]
    }
   ],
   "source": [
    "#The tags from a specific abstract/text file\n",
    "def tags(fil):\n",
    "    lst = []\n",
    "    with open(fil) as f:\n",
    "        for line in f:\n",
    "            tag = line.partition('\\t[')[-1].rpartition(']')[0]\n",
    "            if tag != \"\":\n",
    "                lst.append((tag.split(\",\")))\n",
    "    \n",
    "    tag = []\n",
    "    for i in list(flatten(lst)):\n",
    "        i = i.strip()\n",
    "        if i in hallmarks:\n",
    "            tag.append(i)\n",
    "    return tag\n",
    "\n",
    "print tags('21188035.txt')"
   ]
  },
  {
   "cell_type": "code",
   "execution_count": 7,
   "metadata": {
    "collapsed": false
   },
   "outputs": [],
   "source": [
    "#Functions to strip punctuation, tokenis & POS tag sentences\n",
    "from string import punctuation\n",
    "def strip_punctuation(s):\n",
    "    return ''.join(c for c in s if c not in punctuation)\n",
    "\n",
    "def preprocess(document):\n",
    "    sentences = strip_punctuation(document)\n",
    "    sentences = nltk.sent_tokenize(sentences)\n",
    "    sentences = [nltk.word_tokenize(sent) for sent in sentences]\n",
    "    sentences = [nltk.pos_tag(sent) for sent in sentences]\n",
    "    return sentences"
   ]
  },
  {
   "cell_type": "code",
   "execution_count": 8,
   "metadata": {
    "collapsed": true
   },
   "outputs": [],
   "source": [
    "#Converts nltk pos tags to lemmatizer pos tags\n",
    "from nltk.corpus import wordnet\n",
    "\n",
    "def get_wordnet_pos(treebank_tag):\n",
    "\n",
    "    if treebank_tag.startswith('J'):\n",
    "        return wordnet.ADJ\n",
    "    elif treebank_tag.startswith('V'):\n",
    "        return wordnet.VERB\n",
    "    elif treebank_tag.startswith('N'):\n",
    "        return wordnet.NOUN\n",
    "    elif treebank_tag.startswith('R'):\n",
    "        return wordnet.ADV\n",
    "    else:\n",
    "        return wordnet.NOUN"
   ]
  },
  {
   "cell_type": "code",
   "execution_count": 9,
   "metadata": {
    "collapsed": true
   },
   "outputs": [],
   "source": [
    "def find_bigrams(input_list):\n",
    "    bigram_list = []\n",
    "    for i in range(len(input_list)-1):\n",
    "        bigram_list.append((input_list[i], input_list[i+1]))\n",
    "    return bigram_list"
   ]
  },
  {
   "cell_type": "code",
   "execution_count": 10,
   "metadata": {
    "collapsed": false
   },
   "outputs": [],
   "source": [
    "#Function to remove tags from annotated documents\n",
    "def removetag(line):\n",
    "    tag = line.partition('\\t[')[-1].rpartition(']')[0]\n",
    "    line = line.replace(tag, \"\")\n",
    "    line = line.replace(\".\\t[]\\n\", \"\")\n",
    "    return line"
   ]
  },
  {
   "cell_type": "code",
   "execution_count": 12,
   "metadata": {
    "collapsed": false,
    "scrolled": false
   },
   "outputs": [
    {
     "data": {
      "text/html": [
       "<div>\n",
       "<table border=\"1\" class=\"dataframe\">\n",
       "  <thead>\n",
       "    <tr style=\"text-align: right;\">\n",
       "      <th></th>\n",
       "      <th>Chem</th>\n",
       "      <th>Mesh</th>\n",
       "    </tr>\n",
       "  </thead>\n",
       "  <tbody>\n",
       "    <tr>\n",
       "      <th>11724768</th>\n",
       "      <td>2-(2-amino-3-methoxyphenyl)-4h-1-benzopyran-4-...</td>\n",
       "      <td>animals,blotting, western,carcinoma, hepatocel...</td>\n",
       "    </tr>\n",
       "    <tr>\n",
       "      <th>11773160</th>\n",
       "      <td>antineoplastic agents,biological markers,cell ...</td>\n",
       "      <td>administration, oral,adult,aged,antineoplastic...</td>\n",
       "    </tr>\n",
       "    <tr>\n",
       "      <th>11774243</th>\n",
       "      <td>antigens, neoplasm,hepatitis b antibodies,hepa...</td>\n",
       "      <td>adoptive transfer,animals,antigens, neoplasm,b...</td>\n",
       "    </tr>\n",
       "    <tr>\n",
       "      <th>11781072</th>\n",
       "      <td>antigens, cd28,antigens, cd3,transforming grow...</td>\n",
       "      <td>antigen presentation,antigens, cd28,antigens, ...</td>\n",
       "    </tr>\n",
       "    <tr>\n",
       "      <th>11791181</th>\n",
       "      <td>culture media, conditioned,drug combinations,l...</td>\n",
       "      <td>animals,autocrine communication,breast neoplas...</td>\n",
       "    </tr>\n",
       "  </tbody>\n",
       "</table>\n",
       "</div>"
      ],
      "text/plain": [
       "                                                       Chem  \\\n",
       "11724768  2-(2-amino-3-methoxyphenyl)-4h-1-benzopyran-4-...   \n",
       "11773160  antineoplastic agents,biological markers,cell ...   \n",
       "11774243  antigens, neoplasm,hepatitis b antibodies,hepa...   \n",
       "11781072  antigens, cd28,antigens, cd3,transforming grow...   \n",
       "11791181  culture media, conditioned,drug combinations,l...   \n",
       "\n",
       "                                                       Mesh  \n",
       "11724768  animals,blotting, western,carcinoma, hepatocel...  \n",
       "11773160  administration, oral,adult,aged,antineoplastic...  \n",
       "11774243  adoptive transfer,animals,antigens, neoplasm,b...  \n",
       "11781072  antigen presentation,antigens, cd28,antigens, ...  \n",
       "11791181  animals,autocrine communication,breast neoplas...  "
      ]
     },
     "execution_count": 12,
     "metadata": {},
     "output_type": "execute_result"
    }
   ],
   "source": [
    "#Medical Subject Headings(MeSH) & Chemical lists(Chem)\n",
    "#Creates a dataframe with Mesh and Chem features\n",
    "\n",
    "os.chdir('H:\\HoC_Preprocessed\\\\absMeta')\n",
    "\n",
    "\n",
    "def MeshChem(path):\n",
    "    for root, dir_names, file_names in os.walk(path):\n",
    "        for file_name in file_names:\n",
    "            f = open(file_name).read()\n",
    "            split = f.split(\"~~~mesh:\")\n",
    "            split = split[1].split(\"~~~chem:\")\n",
    "            split = [s.strip() for s in split]\n",
    "            split = [w.replace('\\n', ',') for w in split]\n",
    "            mesh = split[0].lower()\n",
    "            chem = split[1].lower()\n",
    "            yield file_name.strip('.absmeta'), mesh, chem\n",
    "\n",
    "def mc_df(path):\n",
    "    rows = []\n",
    "    index = []\n",
    "    for file_name, mesh, chem in MeshChem(path):\n",
    "        rows.append({'Mesh': mesh, 'Chem': chem})\n",
    "        index.append(file_name)\n",
    "\n",
    "    meshchem_df = pd.DataFrame(rows, index=index)\n",
    "    return meshchem_df\n",
    "\n",
    "meshchem_df = mc_df(os.getcwd())\n",
    "meshchem_df.head()"
   ]
  },
  {
   "cell_type": "code",
   "execution_count": 14,
   "metadata": {
    "collapsed": false
   },
   "outputs": [],
   "source": [
    "#Verb classes (VC)\n",
    "#Creates a dataframe for verb classes features\n",
    "\n",
    "os.chdir('H:/HoC_Preprocessed/vc')\n",
    "\n",
    "def vc(path):\n",
    "    for root, dir_names, file_names in os.walk(path):\n",
    "        for file_name in file_names:\n",
    "            f = open(file_name).read()\n",
    "            v = f.split()\n",
    "            #v = f.translate(None, '\\t\\n ')\n",
    "            v = [x for x in v if x != '~~~']\n",
    "            v = ' '.join(v)\n",
    "            yield file_name.strip('.vc.txt'), v\n",
    "\n",
    "def vc_df(path):\n",
    "    rows = []\n",
    "    index = []\n",
    "    for file_name, v in vc(path):\n",
    "        rows.append({'Verb classes': v})\n",
    "        index.append(file_name)\n",
    "\n",
    "    vc_df = pd.DataFrame(rows, index=index)\n",
    "    return vc_df\n",
    "\n",
    "vc_df = vc_df(os.getcwd())"
   ]
  },
  {
   "cell_type": "code",
   "execution_count": null,
   "metadata": {
    "collapsed": false
   },
   "outputs": [],
   "source": [
    "from sklearn import tree\n",
    "dtc = tree.DecisionTreeClassifier()\n",
    "dtc = dtc.fit(Xtra, ytra)\n",
    "pred = dtc.predict(Xtes)\n",
    "\n",
    "print 'train on %d instances, test on %d instances' % (Xtra.shape[0], Xtes.shape[0])\n",
    "print \"Decision Tree Classifier accuracy: %.3f\"  % dtc.score(Xtes,ytes)\n",
    "print accuracy_score(ytes, pred)\n",
    "print classification_report(ytes, pred, target_names=hallmarks)"
   ]
  },
  {
   "cell_type": "code",
   "execution_count": null,
   "metadata": {
    "collapsed": false
   },
   "outputs": [],
   "source": [
    "from sklearn.feature_extraction import FeatureHasher\n",
    "fh = FeatureHasher(input_type='string')\n",
    "x = fh.transform(((' '.join(x) for x in sample) for sample in feats['N-bigrams']))\n",
    "x"
   ]
  },
  {
   "cell_type": "code",
   "execution_count": 17,
   "metadata": {
    "collapsed": false
   },
   "outputs": [
    {
     "data": {
      "text/html": [
       "<div>\n",
       "<table border=\"1\" class=\"dataframe\">\n",
       "  <thead>\n",
       "    <tr style=\"text-align: right;\">\n",
       "      <th></th>\n",
       "      <th>Class</th>\n",
       "      <th>LemSen</th>\n",
       "    </tr>\n",
       "  </thead>\n",
       "  <tbody>\n",
       "    <tr>\n",
       "      <th>11724768</th>\n",
       "      <td>['sustaining proliferative signaling']</td>\n",
       "      <td>exposure of these cell to ghrelin cause upregu...</td>\n",
       "    </tr>\n",
       "    <tr>\n",
       "      <th>11773160</th>\n",
       "      <td>['sustaining proliferative signaling']</td>\n",
       "      <td>zd1839 suppress egfr phosphorylation in all eg...</td>\n",
       "    </tr>\n",
       "    <tr>\n",
       "      <th>11773160</th>\n",
       "      <td>['sustaining proliferative signaling']</td>\n",
       "      <td>in addition zd1839 inhibit mapk activation p l...</td>\n",
       "    </tr>\n",
       "    <tr>\n",
       "      <th>11773160</th>\n",
       "      <td>['resisting cell death', 'evading growth suppr...</td>\n",
       "      <td>concomitantly zd1839 increase the expression o...</td>\n",
       "    </tr>\n",
       "    <tr>\n",
       "      <th>11773160</th>\n",
       "      <td>['sustaining proliferative signaling']</td>\n",
       "      <td>conclusion zd1839 inhibit egfr activation and ...</td>\n",
       "    </tr>\n",
       "  </tbody>\n",
       "</table>\n",
       "</div>"
      ],
      "text/plain": [
       "                                                      Class  \\\n",
       "11724768             ['sustaining proliferative signaling']   \n",
       "11773160             ['sustaining proliferative signaling']   \n",
       "11773160             ['sustaining proliferative signaling']   \n",
       "11773160  ['resisting cell death', 'evading growth suppr...   \n",
       "11773160             ['sustaining proliferative signaling']   \n",
       "\n",
       "                                                     LemSen  \n",
       "11724768  exposure of these cell to ghrelin cause upregu...  \n",
       "11773160  zd1839 suppress egfr phosphorylation in all eg...  \n",
       "11773160  in addition zd1839 inhibit mapk activation p l...  \n",
       "11773160  concomitantly zd1839 increase the expression o...  \n",
       "11773160  conclusion zd1839 inhibit egfr activation and ...  "
      ]
     },
     "execution_count": 17,
     "metadata": {},
     "output_type": "execute_result"
    }
   ],
   "source": [
    "#Creates a dataframe containing Lemmatised Bag of Words feature and tag for each line\n",
    "wnl = WordNetLemmatizer()\n",
    "\n",
    "def lemsen(path):\n",
    "    for root, dir_names, file_names in os.walk(path):\n",
    "        for file_name in file_names:\n",
    "            f = codecs.open(file_name, encoding = 'utf-8')\n",
    "            for line in f:\n",
    "                tag = line.partition('\\t[')[-1].rpartition(']')[0]\n",
    "                if tag != \"\":\n",
    "                    lem = []\n",
    "                    classif = []\n",
    "                    classif.append(tag.split(\", \"))\n",
    "                    #classif = [w.strip() for w in classif]\n",
    "                    classif = list(flatten(classif))\n",
    "                    cont = line.replace(\".\\t[]\\n\", \"\")\n",
    "                    cont = cont.replace(tag, \"\")\n",
    "                    cont = strip_punctuation(cont)\n",
    "                    cont = cont.strip()\n",
    "                    sent = nltk.word_tokenize(cont)\n",
    "                    sent = [w.lower() for w in sent]\n",
    "                    sent =  nltk.pos_tag(sent)\n",
    "                    #classif.append(tag)\n",
    "                    for j,k in sent:\n",
    "                        lem.append(wnl.lemmatize(j,get_wordnet_pos(k)))\n",
    "                    lem = ' '.join(lem)\n",
    "                    yield file_name.strip('.txt'), lem, classif\n",
    "                    \n",
    "def lemsendf(path):\n",
    "    rows = []\n",
    "    index = []\n",
    "    for file_name, lem, classif in lemsen(path):\n",
    "        rows.append({'LemSen': lem, 'Class': classif})\n",
    "        index.append(file_name)\n",
    "\n",
    "    lemsendf = pd.DataFrame(rows, index=index)\n",
    "    return lemsendf\n",
    "\n",
    "fpath = 'H:/HoCCorpus//'\n",
    "os.chdir(fpath)\n",
    "lensem_df = lemsendf(os.getcwd())\n",
    "lensem_df.head()"
   ]
  },
  {
   "cell_type": "code",
   "execution_count": 18,
   "metadata": {
    "collapsed": false
   },
   "outputs": [],
   "source": [
    "#Noun Bigrams\n",
    "#Creates a dataframe containing Noun Bigrams feature\n",
    "def nbigramlin(path):\n",
    "    for root, dir_names, file_names in os.walk(path):\n",
    "        for path in dir_names:\n",
    "            rdfile(os.path.join(root, path))\n",
    "        for file_name in file_names:\n",
    "            file_path = os.path.join(root, file_name)\n",
    "            if os.path.isfile(file_path):\n",
    "                f = codecs.open(file_path, encoding = 'utf-8' )\n",
    "                for line in f:\n",
    "                    input_list = []\n",
    "                    tag = line.partition('\\t[')[-1].rpartition(']')[0]\n",
    "                    if tag != \"\":\n",
    "                        word = line.lower()\n",
    "                        word = word.replace(tag, \"\")\n",
    "                        word = word.replace(\".\\t[]\\n\", \"\")\n",
    "                        word = strip_punctuation(word)\n",
    "                        word = nltk.word_tokenize(word)            \n",
    "                        word = nltk.pos_tag(word)\n",
    "                        #words.append((word,tag))\n",
    "\n",
    "                        for i, (a, b) in enumerate(word):\n",
    "                            if b.startswith('NN'): \n",
    "                                input_list.append(a.encode('utf-8'))\n",
    "                            a= find_bigrams(input_list)\n",
    "                        yield file_name.strip('.txt'),a\n",
    "\n",
    "def nbigramlindf(path):\n",
    "    rows = []\n",
    "    index = []\n",
    "    for file_name,a in nbigramlin(path):\n",
    "        rows.append({'N-bigrams': a})\n",
    "        index.append(file_name)\n",
    "\n",
    "    n_bigramdf = pd.DataFrame(rows, index=index)\n",
    "    return n_bigramdf\n",
    "\n",
    "\n",
    "pth = \"H:/test//\"\n",
    "os.chdir(fpath)\n",
    "nbgramlindf = nbigramlindf(os.getcwd())"
   ]
  },
  {
   "cell_type": "code",
   "execution_count": 19,
   "metadata": {
    "collapsed": false
   },
   "outputs": [],
   "source": [
    "#Named Entities\n",
    "##Creates a dataframe containing Named Entities feature\n",
    "nepath = 'H:/HoC_Preprocessed/NER/'\n",
    "altpath = 'H:/HoCCorpus'\n",
    "test = 'H:/test//'\n",
    "os.chdir(nepath)\n",
    "def nel(path):\n",
    "    for root, dir_names, file_names in os.walk(path):\n",
    "        for file_name in file_names:\n",
    "            f = open(file_name).read()\n",
    "            ne = f.replace('\\n', ' ')\n",
    "            ne = ne.split('~~~')\n",
    "            del ne[-1]\n",
    "            for n in ne:\n",
    "                ne =[]\n",
    "                ne.append([word for word in n.split() if word[-1] == \":\"])\n",
    "                ne = [wor.replace(\":\", \"\") for wor in flatten(ne)]\n",
    "                #ne = n.split(' ', 1)[0]\n",
    "                #ne = n.replace(\":\", \"\")\n",
    "                ne = ' '.join(ne)\n",
    "                ne = ne.replace(' ', ', ')\n",
    "                yield file_name.strip('.ner.txt'), ne\n",
    "                    \n",
    "                            \n",
    "def nelindf(path):\n",
    "    rows = []\n",
    "    index = []\n",
    "    for file_name, ne in nel(path):\n",
    "        rows.append({'Named Entities': ne})\n",
    "        index.append(file_name)\n",
    "\n",
    "    nedf = pd.DataFrame(rows, index=index)\n",
    "    return nedf\n",
    "\n",
    "nelindf = nelindf(os.getcwd())"
   ]
  },
  {
   "cell_type": "code",
   "execution_count": 20,
   "metadata": {
    "collapsed": false
   },
   "outputs": [
    {
     "name": "stdout",
     "output_type": "stream",
     "text": [
      "(14923, 2)\n"
     ]
    },
    {
     "data": {
      "text/html": [
       "<div>\n",
       "<table border=\"1\" class=\"dataframe\">\n",
       "  <thead>\n",
       "    <tr style=\"text-align: right;\">\n",
       "      <th></th>\n",
       "      <th>Lines</th>\n",
       "      <th>Tag</th>\n",
       "    </tr>\n",
       "  </thead>\n",
       "  <tbody>\n",
       "    <tr>\n",
       "      <th>11724768</th>\n",
       "      <td>[Ghrelin was identified in the stomach as an e...</td>\n",
       "      <td></td>\n",
       "    </tr>\n",
       "    <tr>\n",
       "      <th>11724768</th>\n",
       "      <td>[GHSR is found in various tissues  but its fun...</td>\n",
       "      <td></td>\n",
       "    </tr>\n",
       "    <tr>\n",
       "      <th>11724768</th>\n",
       "      <td>[Here we show that GHSR is found in hepatoma c...</td>\n",
       "      <td></td>\n",
       "    </tr>\n",
       "    <tr>\n",
       "      <th>11724768</th>\n",
       "      <td>[Exposure of these cells to ghrelin caused upr...</td>\n",
       "      <td>'sustaining proliferative signaling'</td>\n",
       "    </tr>\n",
       "    <tr>\n",
       "      <th>11724768</th>\n",
       "      <td>[Unlike insulin  ghrelin inhibited Akt kinase ...</td>\n",
       "      <td></td>\n",
       "    </tr>\n",
       "    <tr>\n",
       "      <th>11724768</th>\n",
       "      <td>[These findings raise the possibility that ghr...</td>\n",
       "      <td></td>\n",
       "    </tr>\n",
       "    <tr>\n",
       "      <th>11773160</th>\n",
       "      <td>[PURPOSE The epidermal growth factor receptor ...</td>\n",
       "      <td></td>\n",
       "    </tr>\n",
       "    <tr>\n",
       "      <th>11773160</th>\n",
       "      <td>[We studied the pharmacodynamic effects of ZD1...</td>\n",
       "      <td></td>\n",
       "    </tr>\n",
       "    <tr>\n",
       "      <th>11773160</th>\n",
       "      <td>[PATIENTS AND METHODS We studied 104 pre andor...</td>\n",
       "      <td></td>\n",
       "    </tr>\n",
       "    <tr>\n",
       "      <th>11773160</th>\n",
       "      <td>[We measured ZD1839 effects on EGFR activation...</td>\n",
       "      <td></td>\n",
       "    </tr>\n",
       "  </tbody>\n",
       "</table>\n",
       "</div>"
      ],
      "text/plain": [
       "                                                      Lines  \\\n",
       "11724768  [Ghrelin was identified in the stomach as an e...   \n",
       "11724768  [GHSR is found in various tissues  but its fun...   \n",
       "11724768  [Here we show that GHSR is found in hepatoma c...   \n",
       "11724768  [Exposure of these cells to ghrelin caused upr...   \n",
       "11724768  [Unlike insulin  ghrelin inhibited Akt kinase ...   \n",
       "11724768  [These findings raise the possibility that ghr...   \n",
       "11773160  [PURPOSE The epidermal growth factor receptor ...   \n",
       "11773160  [We studied the pharmacodynamic effects of ZD1...   \n",
       "11773160  [PATIENTS AND METHODS We studied 104 pre andor...   \n",
       "11773160  [We measured ZD1839 effects on EGFR activation...   \n",
       "\n",
       "                                           Tag  \n",
       "11724768                                        \n",
       "11724768                                        \n",
       "11724768                                        \n",
       "11724768  'sustaining proliferative signaling'  \n",
       "11724768                                        \n",
       "11724768                                        \n",
       "11773160                                        \n",
       "11773160                                        \n",
       "11773160                                        \n",
       "11773160                                        "
      ]
     },
     "execution_count": 20,
     "metadata": {},
     "output_type": "execute_result"
    }
   ],
   "source": [
    "#Combine named entities with all the lines to trim for tagged lines\n",
    "\n",
    "def allines(path):\n",
    "    for root, dir_names, file_names in os.walk(path):\n",
    "        for file_name in file_names:\n",
    "            f = codecs.open(file_name, encoding = 'utf-8')\n",
    "            for line in f:\n",
    "                content = []\n",
    "                tag = line.partition('\\t[')[-1].rpartition(']')[0]\n",
    "                cont = line.replace(\".\\t[]\\n\", \"\")\n",
    "                cont = cont.replace(tag, \"\")\n",
    "                cont = strip_punctuation(cont)\n",
    "                cont = cont.strip()\n",
    "                \n",
    "                content.append(cont)\n",
    "                #f.close()\n",
    "\n",
    "                yield file_name.strip('.txt'), content, tag\n",
    "                \n",
    "                    \n",
    "def allinesdf(path):\n",
    "    rows = []\n",
    "    index = []\n",
    "    for file_name, content, tag in allines(path):\n",
    "        rows.append({'Lines': content, 'Tag': tag})\n",
    "        index.append(file_name)\n",
    "\n",
    "    lemsendf = pd.DataFrame(rows, index=index)\n",
    "    return lemsendf\n",
    "\n",
    "fpath = 'H:/HoCCorpus//'\n",
    "os.chdir(fpath)\n",
    "allinedf = allinesdf(os.getcwd())\n",
    "print allinedf.shape\n",
    "allinedf.head(n=10)"
   ]
  },
  {
   "cell_type": "code",
   "execution_count": 21,
   "metadata": {
    "collapsed": false
   },
   "outputs": [
    {
     "name": "stdout",
     "output_type": "stream",
     "text": [
      "(4448, 1)\n"
     ]
    },
    {
     "data": {
      "text/html": [
       "<div>\n",
       "<table border=\"1\" class=\"dataframe\">\n",
       "  <thead>\n",
       "    <tr style=\"text-align: right;\">\n",
       "      <th></th>\n",
       "      <th>Named Entities</th>\n",
       "    </tr>\n",
       "  </thead>\n",
       "  <tbody>\n",
       "    <tr>\n",
       "      <th>3</th>\n",
       "      <td>protein, protein, protein, protein, protein</td>\n",
       "    </tr>\n",
       "    <tr>\n",
       "      <th>13</th>\n",
       "      <td>protein, cell_type</td>\n",
       "    </tr>\n",
       "    <tr>\n",
       "      <th>14</th>\n",
       "      <td>protein</td>\n",
       "    </tr>\n",
       "    <tr>\n",
       "      <th>15</th>\n",
       "      <td>protein</td>\n",
       "    </tr>\n",
       "    <tr>\n",
       "      <th>17</th>\n",
       "      <td>protein</td>\n",
       "    </tr>\n",
       "    <tr>\n",
       "      <th>29</th>\n",
       "      <td></td>\n",
       "    </tr>\n",
       "    <tr>\n",
       "      <th>32</th>\n",
       "      <td>protein</td>\n",
       "    </tr>\n",
       "    <tr>\n",
       "      <th>33</th>\n",
       "      <td>protein, cell_type, cell_type</td>\n",
       "    </tr>\n",
       "    <tr>\n",
       "      <th>35</th>\n",
       "      <td>cell_type, protein, protein</td>\n",
       "    </tr>\n",
       "    <tr>\n",
       "      <th>36</th>\n",
       "      <td>cell_type</td>\n",
       "    </tr>\n",
       "  </tbody>\n",
       "</table>\n",
       "</div>"
      ],
      "text/plain": [
       "                                 Named Entities\n",
       "3   protein, protein, protein, protein, protein\n",
       "13                           protein, cell_type\n",
       "14                                      protein\n",
       "15                                      protein\n",
       "17                                      protein\n",
       "29                                             \n",
       "32                                      protein\n",
       "33                protein, cell_type, cell_type\n",
       "35                  cell_type, protein, protein\n",
       "36                                    cell_type"
      ]
     },
     "execution_count": 21,
     "metadata": {},
     "output_type": "execute_result"
    }
   ],
   "source": [
    "#Join all lines and named entities, trim to relevant information\n",
    "allinedf.reset_index(inplace = True)\n",
    "nelindf.reset_index(inplace = True)\n",
    "\n",
    "frames = [allinedf, nelindf]\n",
    "namedents = pd.concat(frames, axis = 2)\n",
    "#namedents = namedents.dropna(axis=['Tag']) \n",
    "filter = namedents[\"Tag\"] != \"\"\n",
    "namedents = namedents[filter]\n",
    "namedents = namedents.drop(namedents.columns[[0,2,3]], axis = 1)\n",
    "namedents = namedents.drop(namedents.columns[[0]], axis = 1)\n",
    "#namedents = namedents.apply(lambda x: x.str.strip()).replace('', 'None')\n",
    "namedents['Named Entities'] = namedents['Named Entities'].fillna('')\n",
    "\n",
    "print namedents.shape\n",
    "namedents.head(n=10)"
   ]
  },
  {
   "cell_type": "code",
   "execution_count": 22,
   "metadata": {
    "collapsed": false
   },
   "outputs": [
    {
     "name": "stdout",
     "output_type": "stream",
     "text": [
      "(4448, 7)\n"
     ]
    },
    {
     "data": {
      "text/html": [
       "<div>\n",
       "<table border=\"1\" class=\"dataframe\">\n",
       "  <thead>\n",
       "    <tr style=\"text-align: right;\">\n",
       "      <th></th>\n",
       "      <th>Class</th>\n",
       "      <th>LemSen</th>\n",
       "      <th>N-bigrams</th>\n",
       "      <th>Chem</th>\n",
       "      <th>Mesh</th>\n",
       "      <th>Verb classes</th>\n",
       "      <th>Named Entities</th>\n",
       "    </tr>\n",
       "  </thead>\n",
       "  <tbody>\n",
       "    <tr>\n",
       "      <th>0</th>\n",
       "      <td>['sustaining proliferative signaling']</td>\n",
       "      <td>exposure of these cell to ghrelin cause upregu...</td>\n",
       "      <td>[(exposure, cells), (cells, upregulation), (up...</td>\n",
       "      <td>2-(2-amino-3-methoxyphenyl)-4h-1-benzopyran-4-...</td>\n",
       "      <td>animals,blotting, western,carcinoma, hepatocel...</td>\n",
       "      <td>G2 G2.6 G2.6.0 G5 G5.16 G5.16.0 G3 G3.1 G3.1.7...</td>\n",
       "      <td>protein, protein, protein, protein, protein</td>\n",
       "    </tr>\n",
       "    <tr>\n",
       "      <th>1</th>\n",
       "      <td>['sustaining proliferative signaling']</td>\n",
       "      <td>zd1839 suppress egfr phosphorylation in all eg...</td>\n",
       "      <td>[(zd1839, egfr), (egfr, phosphorylation), (pho...</td>\n",
       "      <td>antineoplastic agents,biological markers,cell ...</td>\n",
       "      <td>administration, oral,adult,aged,antineoplastic...</td>\n",
       "      <td>G2 G2.1 G2.1.1 G2 G2.1 G2.1.1 B5 B5.1 B5.1.10 ...</td>\n",
       "      <td>protein, cell_type</td>\n",
       "    </tr>\n",
       "    <tr>\n",
       "      <th>2</th>\n",
       "      <td>['sustaining proliferative signaling']</td>\n",
       "      <td>in addition zd1839 inhibit mapk activation p l...</td>\n",
       "      <td>[(addition, zd1839), (zd1839, mapk), (mapk, ac...</td>\n",
       "      <td>antineoplastic agents,biological markers,cell ...</td>\n",
       "      <td>administration, oral,adult,aged,antineoplastic...</td>\n",
       "      <td>G2 G2.1 G2.1.1 G2 G2.1 G2.1.1 B5 B5.1 B5.1.10 ...</td>\n",
       "      <td>protein</td>\n",
       "    </tr>\n",
       "    <tr>\n",
       "      <th>3</th>\n",
       "      <td>['resisting cell death', 'evading growth suppr...</td>\n",
       "      <td>concomitantly zd1839 increase the expression o...</td>\n",
       "      <td>[(zd1839, expression), (expression, p27kip1), ...</td>\n",
       "      <td>antineoplastic agents,biological markers,cell ...</td>\n",
       "      <td>administration, oral,adult,aged,antineoplastic...</td>\n",
       "      <td>G2 G2.1 G2.1.1 G2 G2.1 G2.1.1 B5 B5.1 B5.1.10 ...</td>\n",
       "      <td>protein</td>\n",
       "    </tr>\n",
       "    <tr>\n",
       "      <th>4</th>\n",
       "      <td>['sustaining proliferative signaling']</td>\n",
       "      <td>conclusion zd1839 inhibit egfr activation and ...</td>\n",
       "      <td>[(conclusion, zd1839), (zd1839, egfr), (egfr, ...</td>\n",
       "      <td>antineoplastic agents,biological markers,cell ...</td>\n",
       "      <td>administration, oral,adult,aged,antineoplastic...</td>\n",
       "      <td>G2 G2.1 G2.1.1 G2 G2.1 G2.1.1 B5 B5.1 B5.1.10 ...</td>\n",
       "      <td>protein</td>\n",
       "    </tr>\n",
       "  </tbody>\n",
       "</table>\n",
       "</div>"
      ],
      "text/plain": [
       "                                               Class  \\\n",
       "0             ['sustaining proliferative signaling']   \n",
       "1             ['sustaining proliferative signaling']   \n",
       "2             ['sustaining proliferative signaling']   \n",
       "3  ['resisting cell death', 'evading growth suppr...   \n",
       "4             ['sustaining proliferative signaling']   \n",
       "\n",
       "                                              LemSen  \\\n",
       "0  exposure of these cell to ghrelin cause upregu...   \n",
       "1  zd1839 suppress egfr phosphorylation in all eg...   \n",
       "2  in addition zd1839 inhibit mapk activation p l...   \n",
       "3  concomitantly zd1839 increase the expression o...   \n",
       "4  conclusion zd1839 inhibit egfr activation and ...   \n",
       "\n",
       "                                           N-bigrams  \\\n",
       "0  [(exposure, cells), (cells, upregulation), (up...   \n",
       "1  [(zd1839, egfr), (egfr, phosphorylation), (pho...   \n",
       "2  [(addition, zd1839), (zd1839, mapk), (mapk, ac...   \n",
       "3  [(zd1839, expression), (expression, p27kip1), ...   \n",
       "4  [(conclusion, zd1839), (zd1839, egfr), (egfr, ...   \n",
       "\n",
       "                                                Chem  \\\n",
       "0  2-(2-amino-3-methoxyphenyl)-4h-1-benzopyran-4-...   \n",
       "1  antineoplastic agents,biological markers,cell ...   \n",
       "2  antineoplastic agents,biological markers,cell ...   \n",
       "3  antineoplastic agents,biological markers,cell ...   \n",
       "4  antineoplastic agents,biological markers,cell ...   \n",
       "\n",
       "                                                Mesh  \\\n",
       "0  animals,blotting, western,carcinoma, hepatocel...   \n",
       "1  administration, oral,adult,aged,antineoplastic...   \n",
       "2  administration, oral,adult,aged,antineoplastic...   \n",
       "3  administration, oral,adult,aged,antineoplastic...   \n",
       "4  administration, oral,adult,aged,antineoplastic...   \n",
       "\n",
       "                                        Verb classes  \\\n",
       "0  G2 G2.6 G2.6.0 G5 G5.16 G5.16.0 G3 G3.1 G3.1.7...   \n",
       "1  G2 G2.1 G2.1.1 G2 G2.1 G2.1.1 B5 B5.1 B5.1.10 ...   \n",
       "2  G2 G2.1 G2.1.1 G2 G2.1 G2.1.1 B5 B5.1 B5.1.10 ...   \n",
       "3  G2 G2.1 G2.1.1 G2 G2.1 G2.1.1 B5 B5.1 B5.1.10 ...   \n",
       "4  G2 G2.1 G2.1.1 G2 G2.1 G2.1.1 B5 B5.1 B5.1.10 ...   \n",
       "\n",
       "                                Named Entities  \n",
       "0  protein, protein, protein, protein, protein  \n",
       "1                           protein, cell_type  \n",
       "2                                      protein  \n",
       "3                                      protein  \n",
       "4                                      protein  "
      ]
     },
     "execution_count": 22,
     "metadata": {},
     "output_type": "execute_result"
    }
   ],
   "source": [
    "#Combine all features into one dataframe (featsl)\n",
    "\n",
    "lensem_df.reset_index(inplace = True)\n",
    "nbgramlindf.reset_index(inplace = True)\n",
    "meshchem_df.reset_index(inplace = True)\n",
    "namedents.reset_index(inplace = True)\n",
    "vc_df.reset_index(inplace = True)\n",
    "\n",
    "featsl = pd.merge(lensem_df, nbgramlindf, left_index=True, right_index=True)\n",
    "featsl = pd.merge(featsl,meshchem_df, left_on = ['index_x'],right_on =  ['index'])\n",
    "featsl = pd.merge(featsl,vc_df, left_on = ['index_x'],right_on =  ['index'])\n",
    "featsl = pd.merge(featsl, namedents, left_index=True, right_index=True)\n",
    "#col = feats['class']\n",
    "#feats.drop(labels=['class'], axis=1,inplace = True)\n",
    "#feats.insert(3, 'class', col)\n",
    "\n",
    "featsl  = featsl.drop(featsl.columns[[3, 5, 8, 10]], axis=1)\n",
    "print featsl.shape\n",
    "featsl.head()"
   ]
  },
  {
   "cell_type": "code",
   "execution_count": 23,
   "metadata": {
    "collapsed": false
   },
   "outputs": [
    {
     "data": {
      "text/plain": [
       "407"
      ]
     },
     "execution_count": 23,
     "metadata": {},
     "output_type": "execute_result"
    }
   ],
   "source": [
    "import gc \n",
    "gc.collect()"
   ]
  },
  {
   "cell_type": "code",
   "execution_count": 24,
   "metadata": {
    "collapsed": false
   },
   "outputs": [
    {
     "name": "stdout",
     "output_type": "stream",
     "text": [
      "train on 3336 instances, test on 1112 instances\n",
      "One vs rest Linear SVM accuracy: 0.754\n",
      "0.753597122302\n",
      "                                      precision    recall  f1-score   support\n",
      "\n",
      "'sustaining proliferative signaling'       0.93      0.86      0.89       158\n",
      "        'evading growth suppressors'       0.90      0.78      0.83        58\n",
      "              'resisting cell death'       0.91      0.88      0.89        48\n",
      "  'enabling replicative immortality'       0.95      0.75      0.84        73\n",
      "             'inducing angiogenesis'       0.91      0.72      0.80       108\n",
      "'activating invasion and metastasis'       0.96      0.85      0.90       197\n",
      "  'genomic instability and mutation'       0.87      0.81      0.84        95\n",
      "      'tumor promoting inflammation'       0.88      0.93      0.90       203\n",
      "               'cellular energetics'       0.85      0.82      0.84       257\n",
      "       'avoiding immune destruction'       0.92      0.81      0.86       121\n",
      "\n",
      "                         avg / total       0.90      0.83      0.87      1318\n",
      "\n"
     ]
    }
   ],
   "source": [
    "columns = [\"LemSen\", \"N-bigrams\", \"Chem\", \"Mesh\", \"Named Entities\", 'Verb classes']\n",
    "features = featsl[list(columns)].values\n",
    "labels = featsl[\"Class\"].values\n",
    "mlb = preprocessing.MultiLabelBinarizer()\n",
    "vectorizer = CountVectorizer(min_df=1)\n",
    "fh = FeatureHasher(input_type='string')\n",
    "hv = HashingVectorizer(n_features=10)\n",
    "\n",
    "labels = mlb.fit_transform(labels)\n",
    "\n",
    "X = vectorizer.fit_transform(features[:,0])\n",
    "X2 = fh.transform(((' '.join(x) for x in sample) for sample in features[:,1]))  ##Need to vectorize this better\n",
    "X3 = vectorizer.fit_transform(features[:,2])\n",
    "X4 = vectorizer.fit_transform(features[:,3])\n",
    "#X4 = vectorizer.fit_transform([f for f in features[:,3]])\n",
    "X5 = vectorizer.fit_transform((features[:,4]))\n",
    "X6 = fh.fit_transform((features[:,5]))\n",
    "Xall = hstack((X, X2, X3, X4, X5, X6))\n",
    "Xtra, Xtes, ytra, ytes = cross_validation.train_test_split(Xall,labels, test_size=0.25)\n",
    "\n",
    "clf = OneVsRestClassifier(LinearSVC(random_state=0))\n",
    "clf.fit(Xtra, ytra)\n",
    "predicted = clf.predict(Xtes)\n",
    "\n",
    "print 'train on %d instances, test on %d instances' % (Xtra.shape[0], Xtes.shape[0])\n",
    "print \"One vs rest Linear SVM accuracy: %.3f\"  % clf.score(Xtes,ytes)\n",
    "print accuracy_score(ytes, predicted)\n",
    "print classification_report(ytes, predicted, target_names=hallmarks)"
   ]
  },
  {
   "cell_type": "code",
   "execution_count": 25,
   "metadata": {
    "collapsed": false
   },
   "outputs": [
    {
     "name": "stdout",
     "output_type": "stream",
     "text": [
      "0.826049160671\n",
      "0.907784160828\n"
     ]
    }
   ],
   "source": [
    "from sklearn import metrics\n",
    "print metrics.jaccard_similarity_score(ytes, predicted)\n",
    "print metrics.roc_auc_score(ytes, predicted, average='weighted')"
   ]
  },
  {
   "cell_type": "code",
   "execution_count": 179,
   "metadata": {
    "collapsed": false
   },
   "outputs": [
    {
     "name": "stdout",
     "output_type": "stream",
     "text": [
      "{'estimator__estimator': SVC(C=1.0, cache_size=200, class_weight=None, coef0=0.0, degree=3, gamma=0.0,\n",
      "  kernel='rbf', max_iter=-1, probability=False, random_state=None,\n",
      "  shrinking=True, tol=0.001, verbose=False), 'n_jobs': 1, 'estimator__estimator__random_state': None, 'estimator__estimator__C': 1.0, 'estimator__estimator__shrinking': True, 'estimator__estimator__max_iter': -1, 'estimator__estimator__verbose': False, 'estimator__estimator__class_weight': None, 'estimator__estimator__cache_size': 200, 'param_grid': {'estimator__C': [23, 24, 25], 'estimator__gamma': [0.0011, 0.001, 0.0009]}, 'cv': None, 'verbose': 0, 'scoring': None, 'estimator__estimator__probability': False, 'estimator__n_jobs': 1, 'estimator__estimator__coef0': 0.0, 'estimator__estimator__kernel': 'rbf', 'fit_params': {}, 'refit': True, 'iid': True, 'estimator__estimator__degree': 3, 'score_func': None, 'pre_dispatch': '2*n_jobs', 'estimator__estimator__gamma': 0.0, 'loss_func': None, 'estimator': OneVsRestClassifier(estimator=SVC(C=1.0, cache_size=200, class_weight=None, coef0=0.0, degree=3, gamma=0.0,\n",
      "  kernel='rbf', max_iter=-1, probability=False, random_state=None,\n",
      "  shrinking=True, tol=0.001, verbose=False),\n",
      "          n_jobs=1), 'estimator__estimator__tol': 0.001, 'error_score': 'raise'}\n",
      "0.497751798561\n",
      "{'estimator__C': 25, 'estimator__gamma': 0.0009}\n"
     ]
    }
   ],
   "source": [
    "#Optimizing the parameters for RBF kernel in SVM\n",
    "clf = OneVsRestClassifier(svm.SVC(kernel='rbf'))\n",
    "params = {\"estimator__C\":[23, 24, 25], \"estimator__gamma\": [0.0011, 0.001, 0.0009]}\n",
    "grid_search = GridSearchCV(clf, params)\n",
    "grid_search.fit(Xall,labels)\n",
    "\n",
    "print grid_search.get_params()\n",
    "print grid_search.best_score_\n",
    "print grid_search.best_params_"
   ]
  },
  {
   "cell_type": "code",
   "execution_count": 26,
   "metadata": {
    "collapsed": false
   },
   "outputs": [
    {
     "name": "stdout",
     "output_type": "stream",
     "text": [
      "train on 3336 instances, test on 1112 instances\n",
      "One vs rest SVM (RBF Kernel) accuracy: 0.665\n",
      "0.664568345324\n",
      "                                      precision    recall  f1-score   support\n",
      "\n",
      "'sustaining proliferative signaling'       0.83      0.78      0.81       158\n",
      "        'evading growth suppressors'       0.93      0.71      0.80        58\n",
      "              'resisting cell death'       0.86      0.75      0.80        48\n",
      "  'enabling replicative immortality'       0.84      0.71      0.77        73\n",
      "             'inducing angiogenesis'       0.80      0.51      0.62       108\n",
      "'activating invasion and metastasis'       0.90      0.79      0.84       197\n",
      "  'genomic instability and mutation'       0.83      0.76      0.79        95\n",
      "      'tumor promoting inflammation'       0.89      0.75      0.82       203\n",
      "               'cellular energetics'       0.81      0.77      0.79       257\n",
      "       'avoiding immune destruction'       0.74      0.64      0.68       121\n",
      "\n",
      "                         avg / total       0.84      0.73      0.78      1318\n",
      "\n"
     ]
    }
   ],
   "source": [
    "from sklearn.multiclass import OneVsOneClassifier\n",
    "from sklearn import svm, grid_search\n",
    "clf = OneVsRestClassifier(svm.SVC(C=25.0, kernel='rbf', gamma = 0.0009))\n",
    "clf.fit(Xtra, ytra)\n",
    "predicted = clf.predict(Xtes)\n",
    "\n",
    "print 'train on %d instances, test on %d instances' % (Xtra.shape[0], Xtes.shape[0])\n",
    "print \"One vs rest SVM (RBF Kernel) accuracy: %.3f\"  % clf.score(Xtes,ytes)\n",
    "print accuracy_score(ytes, predicted)\n",
    "print classification_report(ytes, predicted, target_names=hallmarks)"
   ]
  },
  {
   "cell_type": "code",
   "execution_count": 27,
   "metadata": {
    "collapsed": false
   },
   "outputs": [
    {
     "name": "stdout",
     "output_type": "stream",
     "text": [
      "Accuracy: 0.62 (+/- 0.06)\n",
      "(4448, 10)\n",
      "                                      precision    recall  f1-score   support\n",
      "\n",
      "'sustaining proliferative signaling'       0.93      0.82      0.87       667\n",
      "        'evading growth suppressors'       0.75      0.50      0.60       226\n",
      "              'resisting cell death'       0.95      0.75      0.84       213\n",
      "  'enabling replicative immortality'       0.94      0.69      0.80       295\n",
      "             'inducing angiogenesis'       0.70      0.48      0.57       368\n",
      "'activating invasion and metastasis'       0.92      0.81      0.86       771\n",
      "  'genomic instability and mutation'       0.89      0.71      0.79       357\n",
      "      'tumor promoting inflammation'       0.94      0.80      0.86       833\n",
      "               'cellular energetics'       0.78      0.67      0.72       993\n",
      "       'avoiding immune destruction'       0.87      0.68      0.76       520\n",
      "\n",
      "                         avg / total       0.87      0.72      0.79      5243\n",
      "\n"
     ]
    }
   ],
   "source": [
    "from sklearn.cross_validation import cross_val_predict\n",
    "\n",
    "clf = OneVsRestClassifier(LinearSVC())\n",
    "#clf = OneVsRestClassifier(svm.SVC(C=25.0, kernel='rbf', gamma = 0.0009))\n",
    "scores = cross_validation.cross_val_score(clf, Xall,labels, cv=4)\n",
    "print(\"Accuracy: %0.2f (+/- %0.2f)\" % (scores.mean(), scores.std() * 2))\n",
    "#print scores\n",
    "\n",
    "y_pred = cross_val_predict(clf, Xall, labels, cv=4)\n",
    "print y_pred.shape\n",
    "print(classification_report(labels, y_pred, target_names=hallmarks))"
   ]
  },
  {
   "cell_type": "code",
   "execution_count": 28,
   "metadata": {
    "collapsed": false
   },
   "outputs": [
    {
     "name": "stdout",
     "output_type": "stream",
     "text": [
      "train on 3336 instances, test on 1112 instances\n",
      "Decision Tree Classifier accuracy: 0.674\n",
      "0.674460431655\n",
      "                                      precision    recall  f1-score   support\n",
      "\n",
      "'sustaining proliferative signaling'       0.87      0.81      0.84       158\n",
      "        'evading growth suppressors'       0.66      0.57      0.61        58\n",
      "              'resisting cell death'       0.76      0.67      0.71        48\n",
      "  'enabling replicative immortality'       0.88      0.77      0.82        73\n",
      "             'inducing angiogenesis'       0.69      0.61      0.65       108\n",
      "'activating invasion and metastasis'       0.86      0.82      0.84       197\n",
      "  'genomic instability and mutation'       0.77      0.76      0.77        95\n",
      "      'tumor promoting inflammation'       0.84      0.84      0.84       203\n",
      "               'cellular energetics'       0.74      0.73      0.74       257\n",
      "       'avoiding immune destruction'       0.69      0.65      0.67       121\n",
      "\n",
      "                         avg / total       0.79      0.75      0.77      1318\n",
      "\n"
     ]
    }
   ],
   "source": [
    "from sklearn import tree\n",
    "dtc = tree.DecisionTreeClassifier()\n",
    "dtc = dtc.fit(Xtra, ytra)\n",
    "pred = dtc.predict(Xtes)\n",
    "\n",
    "print 'train on %d instances, test on %d instances' % (Xtra.shape[0], Xtes.shape[0])\n",
    "print \"Decision Tree Classifier accuracy: %.3f\"  % dtc.score(Xtes,ytes)\n",
    "print accuracy_score(ytes, pred)\n",
    "print classification_report(ytes, pred, target_names=hallmarks)"
   ]
  },
  {
   "cell_type": "code",
   "execution_count": 29,
   "metadata": {
    "collapsed": false
   },
   "outputs": [
    {
     "data": {
      "image/png": "[encoded data removed]",
      "text/plain": [
       "<matplotlib.figure.Figure at 0x10e19f90>"
      ]
     },
     "metadata": {},
     "output_type": "display_data"
    }
   ],
   "source": [
    "from sklearn.learning_curve import learning_curve\n",
    "import matplotlib.pyplot as plt\n",
    "%matplotlib inline\n",
    "\n",
    "def plot_learning_curve(estimator, title, X, y, ylim=None, cv=None,\n",
    "                        n_jobs=1, train_sizes=np.linspace(.1, 1.0, 5)):\n",
    "    plt.figure()\n",
    "    plt.title(title)\n",
    "    if ylim is not None:\n",
    "        plt.ylim(*ylim)\n",
    "    plt.xlabel(\"Training examples\")\n",
    "    plt.ylabel(\"Score\")\n",
    "    train_sizes, train_scores, test_scores = learning_curve(\n",
    "        estimator, X, y, cv=cv, n_jobs=n_jobs, train_sizes=train_sizes)\n",
    "    train_scores_mean = np.mean(train_scores, axis=1)\n",
    "    train_scores_std = np.std(train_scores, axis=1)\n",
    "    test_scores_mean = np.mean(test_scores, axis=1)\n",
    "    test_scores_std = np.std(test_scores, axis=1)\n",
    "    plt.grid()\n",
    "\n",
    "    plt.fill_between(train_sizes, train_scores_mean - train_scores_std,\n",
    "                     train_scores_mean + train_scores_std, alpha=0.1,\n",
    "                     color=\"r\")\n",
    "    plt.fill_between(train_sizes, test_scores_mean - test_scores_std,\n",
    "                     test_scores_mean + test_scores_std, alpha=0.1, color=\"g\")\n",
    "    plt.plot(train_sizes, train_scores_mean, 'o-', color=\"r\",\n",
    "             label=\"Training score\")\n",
    "    plt.plot(train_sizes, test_scores_mean, 'o-', color=\"g\",\n",
    "             label=\"Cross-validation score\")\n",
    "\n",
    "    plt.legend(loc=\"best\")\n",
    "    return plt.show()\n",
    "\n",
    "plot_learning_curve(clf, None, Xall, labels, cv=5)"
   ]
  },
  {
   "cell_type": "code",
   "execution_count": null,
   "metadata": {
    "collapsed": true
   },
   "outputs": [],
   "source": []
  }
 ],
 "metadata": {
  "kernelspec": {
   "display_name": "Python 2",
   "language": "python",
   "name": "python2"
  },
  "language_info": {
   "codemirror_mode": {
    "name": "ipython",
    "version": 2
   },
   "file_extension": ".py",
   "mimetype": "text/x-python",
   "name": "python",
   "nbconvert_exporter": "python",
   "pygments_lexer": "ipython2",
   "version": "2.7.10"
  }
 },
 "nbformat": 4,
 "nbformat_minor": 0
}
